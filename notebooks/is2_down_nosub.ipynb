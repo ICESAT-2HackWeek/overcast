{
 "cells": [
  {
   "cell_type": "code",
   "execution_count": 1,
   "metadata": {},
   "outputs": [],
   "source": [
    "import os\n",
    "from icepyx import icesat2data as ipd"
   ]
  },
  {
   "cell_type": "code",
   "execution_count": null,
   "metadata": {},
   "outputs": [],
   "source": []
  },
  {
   "cell_type": "markdown",
   "metadata": {},
   "source": [
    "### Setting the data product, region, time, NSIDC user id/email and download directory"
   ]
  },
  {
   "cell_type": "code",
   "execution_count": 9,
   "metadata": {},
   "outputs": [],
   "source": [
    "shortName = 'ATL07'\n",
    "# --- lon/lat of lower left and upper right of the Eastern Beaufort Corner\n",
    "bbox     = [-140,68,-120,80]\n",
    "dates    = ['2019-06-10','2019-06-16']\n",
    "uid      = 'dzhangpmel'\n",
    "email    = 'dongxiao.zhang@noaa.gov'\n",
    "\n",
    "dataroot = '/home/jovyan/shared/data-overcast'\n",
    "datapath = os.path.join(dataroot,shortName)"
   ]
  },
  {
   "cell_type": "code",
   "execution_count": 10,
   "metadata": {},
   "outputs": [],
   "source": [
    "region_b = ipd.Icesat2Data(shortName,bbox,dates,start_time='00:00:00', end_time='23:59:59')"
   ]
  },
  {
   "cell_type": "code",
   "execution_count": 11,
   "metadata": {},
   "outputs": [
    {
     "name": "stdin",
     "output_type": "stream",
     "text": [
      "Earthdata Login password:  ········\n"
     ]
    }
   ],
   "source": [
    "region_b.earthdata_login(uid,email)"
   ]
  },
  {
   "cell_type": "markdown",
   "metadata": {},
   "source": [
    "#### Check the granules in this box and time range. "
   ]
  },
  {
   "cell_type": "code",
   "execution_count": 12,
   "metadata": {},
   "outputs": [
    {
     "data": {
      "text/plain": [
       "{'Number of available granules': 18,\n",
       " 'Average size of granules (MB)': 86.97996542188889,\n",
       " 'Total size of all granules (MB)': 1565.6393775939998}"
      ]
     },
     "execution_count": 12,
     "metadata": {},
     "output_type": "execute_result"
    }
   ],
   "source": [
    "region_b.avail_granules()"
   ]
  },
  {
   "cell_type": "code",
   "execution_count": 13,
   "metadata": {},
   "outputs": [
    {
     "data": {
      "text/plain": [
       "['ATL07-01_20190610000108_11110301_003_02.h5',\n",
       " 'ATL07-01_20190610013526_11120301_003_02.h5',\n",
       " 'ATL07-01_20190610110110_11180301_003_02.h5',\n",
       " 'ATL07-01_20190610123527_11190301_003_02.h5',\n",
       " 'ATL07-01_20190611010946_11270301_003_02.h5',\n",
       " 'ATL07-01_20190611120948_11340301_003_02.h5',\n",
       " 'ATL07-01_20190612004407_11420301_003_02.h5',\n",
       " 'ATL07-01_20190612114409_11490301_003_02.h5',\n",
       " 'ATL07-01_20190613001827_11570301_003_02.h5',\n",
       " 'ATL07-01_20190613111829_11640301_003_02.h5',\n",
       " 'ATL07-01_20190613235248_11720301_003_02.h5',\n",
       " 'ATL07-01_20190614012706_11730301_003_02.h5',\n",
       " 'ATL07-01_20190614105250_11790301_003_02.h5',\n",
       " 'ATL07-01_20190614122708_11800301_003_02.h5',\n",
       " 'ATL07-01_20190615010127_11880301_003_02.h5',\n",
       " 'ATL07-01_20190615120128_11950301_003_02.h5',\n",
       " 'ATL07-01_20190616003547_12030301_003_02.h5',\n",
       " 'ATL07-01_20190616113549_12100301_003_02.h5']"
      ]
     },
     "execution_count": 13,
     "metadata": {},
     "output_type": "execute_result"
    }
   ],
   "source": [
    "region_b.avail_granules(ids=True)"
   ]
  },
  {
   "cell_type": "markdown",
   "metadata": {},
   "source": [
    "### No subsetting of variables for now. Order and download"
   ]
  },
  {
   "cell_type": "code",
   "execution_count": 14,
   "metadata": {},
   "outputs": [
    {
     "name": "stdout",
     "output_type": "stream",
     "text": [
      "Total number of data order requests is  2  for  18  granules.\n",
      "Data request  1  of  2  is submitting to NSIDC\n",
      "order ID:  5000000701057\n",
      "Initial status of your order request at NSIDC is:  processing\n",
      "Your order status is still  processing  at NSIDC. Please continue waiting... this may take a few moments.\n",
      "Your order status is still  processing  at NSIDC. Please continue waiting... this may take a few moments.\n",
      "Your order status is still  processing  at NSIDC. Please continue waiting... this may take a few moments.\n",
      "Your order is:  complete_with_errors\n",
      "NSIDC provided these error messages:\n",
      "['181433585:NoMatchingData - No data found that matched subset constraints. '\n",
      " 'Exit code 3.',\n",
      " '181433625:NoMatchingData - No data found that matched subset constraints. '\n",
      " 'Exit code 3.',\n",
      " 'PT21.434S',\n",
      " 'ICESAT2']\n",
      "Your order is: complete_with_errors\n",
      "Data request  2  of  2  is submitting to NSIDC\n",
      "order ID:  5000000701059\n",
      "Initial status of your order request at NSIDC is:  processing\n",
      "Your order status is still  processing  at NSIDC. Please continue waiting... this may take a few moments.\n",
      "Your order status is still  processing  at NSIDC. Please continue waiting... this may take a few moments.\n",
      "Your order is:  complete_with_errors\n",
      "NSIDC provided these error messages:\n",
      "['181433859:NoMatchingData - No data found that matched subset constraints. '\n",
      " 'Exit code 3.',\n",
      " 'PT16.175S',\n",
      " 'ICESAT2']\n",
      "Your order is: complete_with_errors\n"
     ]
    }
   ],
   "source": [
    "# --- set email=False to avoid flooding your inbox\n",
    "region_b.order_granules(email=False)"
   ]
  },
  {
   "cell_type": "code",
   "execution_count": 16,
   "metadata": {},
   "outputs": [
    {
     "name": "stdout",
     "output_type": "stream",
     "text": [
      "Beginning download of zipped output...\n",
      "Data request 5000000701057 of  2  order(s) is downloaded.\n",
      "Beginning download of zipped output...\n",
      "Data request 5000000701059 of  2  order(s) is downloaded.\n",
      "Download complete\n"
     ]
    }
   ],
   "source": [
    "region_b.download_granules(datapath)"
   ]
  },
  {
   "cell_type": "code",
   "execution_count": null,
   "metadata": {},
   "outputs": [],
   "source": []
  },
  {
   "cell_type": "code",
   "execution_count": null,
   "metadata": {},
   "outputs": [],
   "source": []
  }
 ],
 "metadata": {
  "kernelspec": {
   "display_name": "Python 3",
   "language": "python",
   "name": "python3"
  },
  "language_info": {
   "codemirror_mode": {
    "name": "ipython",
    "version": 3
   },
   "file_extension": ".py",
   "mimetype": "text/x-python",
   "name": "python",
   "nbconvert_exporter": "python",
   "pygments_lexer": "ipython3",
   "version": "3.7.6"
  }
 },
 "nbformat": 4,
 "nbformat_minor": 4
}
