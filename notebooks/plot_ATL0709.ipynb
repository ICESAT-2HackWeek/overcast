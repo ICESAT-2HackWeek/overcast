{
 "cells": [
  {
   "cell_type": "code",
   "execution_count": 1,
   "metadata": {},
   "outputs": [],
   "source": [
    "import numpy as np\n",
    "import matplotlib.pyplot as plt\n",
    "import cartopy.crs as ccrs\n",
    "from pathlib import Path\n",
    "import pandas as pd\n",
    "import xarray as xr\n",
    "import h5py\n",
    "from astropy.time import Time\n",
    "\n",
    "pd.set_option('max_colwidth', 400)\n",
    "\n",
    "%matplotlib inline"
   ]
  },
  {
   "cell_type": "code",
   "execution_count": 2,
   "metadata": {},
   "outputs": [],
   "source": [
    "%load_ext autoreload\n",
    "%autoreload 2"
   ]
  },
  {
   "cell_type": "markdown",
   "metadata": {},
   "source": [
    "## Load some of our own functions\n",
    "* A `setup.py` is added to have easier access to our functions\n",
    "* Under `overcast` root directory, run `pip install -e .` . \n",
    "* ***RESTART*** the kernel of this notebook, then you are good to go.\n"
   ]
  },
  {
   "cell_type": "code",
   "execution_count": 3,
   "metadata": {},
   "outputs": [],
   "source": [
    "from overcast import readers as rd\n",
    "from overcast.utils import fn2rgt, datainfo, query_rgt, box_sel"
   ]
  },
  {
   "cell_type": "markdown",
   "metadata": {},
   "source": [
    "## Archive all the data we have a region\n",
    "* Find all the files for each product\n",
    "* put the RGT, cycle_number, and filename into Pandas DataFrame so we can match granules. This is done by calling `datainfo` in `utils.py`."
   ]
  },
  {
   "cell_type": "code",
   "execution_count": 4,
   "metadata": {},
   "outputs": [
    {
     "data": {
      "text/html": [
       "<div>\n",
       "<style scoped>\n",
       "    .dataframe tbody tr th:only-of-type {\n",
       "        vertical-align: middle;\n",
       "    }\n",
       "\n",
       "    .dataframe tbody tr th {\n",
       "        vertical-align: top;\n",
       "    }\n",
       "\n",
       "    .dataframe thead th {\n",
       "        text-align: right;\n",
       "    }\n",
       "</style>\n",
       "<table border=\"1\" class=\"dataframe\">\n",
       "  <thead>\n",
       "    <tr style=\"text-align: right;\">\n",
       "      <th></th>\n",
       "      <th>rgt</th>\n",
       "      <th>cycle_number</th>\n",
       "      <th>filename</th>\n",
       "    </tr>\n",
       "  </thead>\n",
       "  <tbody>\n",
       "    <tr>\n",
       "      <th>0</th>\n",
       "      <td>1112</td>\n",
       "      <td>3</td>\n",
       "      <td>/home/jovyan/shared/data-overcast/BEAUFORT/ATL07/processed_ATL07-01_20190610013526_11120301_003_02.h5</td>\n",
       "    </tr>\n",
       "    <tr>\n",
       "      <th>1</th>\n",
       "      <td>1119</td>\n",
       "      <td>3</td>\n",
       "      <td>/home/jovyan/shared/data-overcast/BEAUFORT/ATL07/processed_ATL07-01_20190610123527_11190301_003_02.h5</td>\n",
       "    </tr>\n",
       "    <tr>\n",
       "      <th>2</th>\n",
       "      <td>1127</td>\n",
       "      <td>3</td>\n",
       "      <td>/home/jovyan/shared/data-overcast/BEAUFORT/ATL07/processed_ATL07-01_20190611010946_11270301_003_02.h5</td>\n",
       "    </tr>\n",
       "    <tr>\n",
       "      <th>3</th>\n",
       "      <td>1134</td>\n",
       "      <td>3</td>\n",
       "      <td>/home/jovyan/shared/data-overcast/BEAUFORT/ATL07/processed_ATL07-01_20190611120948_11340301_003_02.h5</td>\n",
       "    </tr>\n",
       "    <tr>\n",
       "      <th>4</th>\n",
       "      <td>1142</td>\n",
       "      <td>3</td>\n",
       "      <td>/home/jovyan/shared/data-overcast/BEAUFORT/ATL07/processed_ATL07-01_20190612004407_11420301_003_02.h5</td>\n",
       "    </tr>\n",
       "  </tbody>\n",
       "</table>\n",
       "</div>"
      ],
      "text/plain": [
       "    rgt  cycle_number  \\\n",
       "0  1112             3   \n",
       "1  1119             3   \n",
       "2  1127             3   \n",
       "3  1134             3   \n",
       "4  1142             3   \n",
       "\n",
       "                                                                                                filename  \n",
       "0  /home/jovyan/shared/data-overcast/BEAUFORT/ATL07/processed_ATL07-01_20190610013526_11120301_003_02.h5  \n",
       "1  /home/jovyan/shared/data-overcast/BEAUFORT/ATL07/processed_ATL07-01_20190610123527_11190301_003_02.h5  \n",
       "2  /home/jovyan/shared/data-overcast/BEAUFORT/ATL07/processed_ATL07-01_20190611010946_11270301_003_02.h5  \n",
       "3  /home/jovyan/shared/data-overcast/BEAUFORT/ATL07/processed_ATL07-01_20190611120948_11340301_003_02.h5  \n",
       "4  /home/jovyan/shared/data-overcast/BEAUFORT/ATL07/processed_ATL07-01_20190612004407_11420301_003_02.h5  "
      ]
     },
     "execution_count": 4,
     "metadata": {},
     "output_type": "execute_result"
    }
   ],
   "source": [
    "ROI = 'BEAUFORT' ## ['LAPTEV','CHUKCHI']\n",
    "dataroot = Path.home()/'shared/data-overcast'/ROI\n",
    "\n",
    "fns07 = sorted( (dataroot/'ATL07').glob('*.h5') )\n",
    "fns09 = sorted( (dataroot/'ATL09').glob('*.h5') )\n",
    "db07 = datainfo(fns07)\n",
    "db09 = datainfo(fns09)\n",
    "db07.head()"
   ]
  },
  {
   "cell_type": "markdown",
   "metadata": {},
   "source": [
    "## Select a granule and find the files from ATL07 and ATL09 database\n",
    "* This uses a simple function `query_rgt` in `utils.py`"
   ]
  },
  {
   "cell_type": "code",
   "execution_count": null,
   "metadata": {},
   "outputs": [],
   "source": [
    "rgt = 1142; cyc = 3\n",
    "\n",
    "fn07 = query_rgt(rgt,cyc,db07)[0]\n",
    "fn09 = query_rgt(rgt,cyc,db09)[0]\n",
    "print(fn07)\n",
    "print(fn09)"
   ]
  },
  {
   "cell_type": "markdown",
   "metadata": {},
   "source": [
    "## Check space orientation. \n",
    "* ATL09 is strong beam only so we have to find the matching ATL07 beam\n",
    "* Choose the center beam for example"
   ]
  },
  {
   "cell_type": "code",
   "execution_count": null,
   "metadata": {},
   "outputs": [],
   "source": [
    "f07 = h5py.File(fn07, 'r')\n",
    "#check to see if it is forward (1)  or backward (0) orientation to know which beam is strong/weak\n",
    "print(f07['orbit_info/sc_orient'][0])\n",
    "f07.close()"
   ]
  },
  {
   "cell_type": "code",
   "execution_count": null,
   "metadata": {},
   "outputs": [],
   "source": [
    "beam07 = 'gt2l'\n",
    "beam09 = 'profile_2'"
   ]
  },
  {
   "cell_type": "markdown",
   "metadata": {},
   "source": [
    "## Read ATL07 and ATL09 data\n",
    "* For ATL07, the reader from the sea ice tutorial is used.\n",
    "* A `getATL09` reader is added to `readers.py` but using xarray because we want to include some 2D data.\n",
    "* Another advantage of xarray dataset is that now we can add attributes to variables."
   ]
  },
  {
   "cell_type": "code",
   "execution_count": null,
   "metadata": {},
   "outputs": [],
   "source": [
    "with h5py.File(fn07, 'r') as f07:\n",
    "    epoch=f07['/ancillary_data/atlas_sdp_gps_epoch'][0]\n",
    "    df07= rd.getATL07(f07,beam07)\n",
    "    df07['time']=Time(epoch+df07['dt'],format='gps').utc.datetime\n",
    "df07.head()"
   ]
  },
  {
   "cell_type": "code",
   "execution_count": null,
   "metadata": {},
   "outputs": [],
   "source": [
    "with h5py.File(fn09, 'r') as f09:\n",
    "    epoch=f09['/ancillary_data/atlas_sdp_gps_epoch'][0]\n",
    "    ds09= rd.getATL09(f09,beam09)\n",
    "    ds09['time']=(['dt'],Time(epoch+ds09['dt'],format='gps').utc.datetime)\n",
    "ds09"
   ]
  },
  {
   "cell_type": "markdown",
   "metadata": {},
   "source": [
    "## Select a region we want to plot\n",
    "* Here we used the same bounding box as we used yesterday\n",
    "* both ATL07 and ATL09 data are selected by calling the same function `box_sel` in `utils.py`. \n",
    "* Check `ds09_cut` and `df07_cut` to make sure they are in our box"
   ]
  },
  {
   "cell_type": "code",
   "execution_count": null,
   "metadata": {},
   "outputs": [],
   "source": [
    "bbox = [-150,75,-110,78]\n",
    "df07_cut=df07[box_sel(df07,bbox)]\n",
    "ds09_cut=ds09.where(box_sel(ds09,bbox),drop=True)"
   ]
  },
  {
   "cell_type": "code",
   "execution_count": null,
   "metadata": {},
   "outputs": [],
   "source": [
    "ds09_cut"
   ]
  },
  {
   "cell_type": "code",
   "execution_count": null,
   "metadata": {},
   "outputs": [],
   "source": [
    "df07_cut"
   ]
  },
  {
   "cell_type": "markdown",
   "metadata": {},
   "source": [
    "## Get the clout top and bottom height from ATL09\n",
    "* This is a simple case, where only one layer of cloud is present\n",
    "* At this time of year, no blowing snow either."
   ]
  },
  {
   "cell_type": "code",
   "execution_count": null,
   "metadata": {},
   "outputs": [],
   "source": [
    "laytop = ds09_cut['layer_top'].values\n",
    "laytop[laytop>20e3] = -100\n",
    "ctop = laytop.max(axis=1)\n",
    "laybot = ds09_cut['layer_bot'].values\n",
    "cbot = laybot.min(axis=1)"
   ]
  },
  {
   "cell_type": "markdown",
   "metadata": {},
   "source": [
    "## Plot some ERA5 fields with the granule maps\n",
    "* find the closest time from the hourly ERA5 data for convenience. "
   ]
  },
  {
   "cell_type": "code",
   "execution_count": null,
   "metadata": {},
   "outputs": [],
   "source": [
    "erafn = Path.home()/'shared/data-overcast/ERA5/BEAUFORT_201906.nc'\n",
    "dsera = xr.open_dataset(erafn)\n",
    "dsera = dsera.rename({'lat':'lats','lon':'lons'})"
   ]
  },
  {
   "cell_type": "code",
   "execution_count": null,
   "metadata": {},
   "outputs": [],
   "source": [
    "tm07 = df07_cut['time'].mean()\n",
    "tm09 = ds09_cut['time'].mean().values\n"
   ]
  },
  {
   "cell_type": "code",
   "execution_count": null,
   "metadata": {},
   "outputs": [],
   "source": [
    "#dsera_cut = dsera.where( box_sel(dsera,bbox,to_360=True) , drop=True)\n",
    "#dsera_cut = dsera_cut.sel(time0=tm07.round('H'))\n",
    "dsera_cut = dsera.sel(time0=tm07.round('H'))\n",
    "dsera_cut = dsera_cut.sel(time1=tm07.round('H'))\n",
    "dsera_cut"
   ]
  },
  {
   "cell_type": "markdown",
   "metadata": {},
   "source": [
    "## First plot in a map to see where the granule is "
   ]
  },
  {
   "cell_type": "code",
   "execution_count": null,
   "metadata": {},
   "outputs": [],
   "source": [
    "bea_proj = ccrs.NorthPolarStereo(central_longitude=-140)\n",
    "pcproj   = ccrs.PlateCarree()\n",
    "\n",
    "var = 'heights'\n",
    "vmin = 0; vmax= 2\n",
    "ticks=np.arange(vmin,vmax,.2)\n",
    "fig = plt.figure(1,figsize=(8,8),dpi=100)\n",
    "ax1 = fig.add_subplot(211,projection=bea_proj)\n",
    "ax1.coastlines(resolution='50m', color='black', linewidth=1)\n",
    "ax1.set_extent([bbox[0],bbox[2],bbox[1],bbox[3]], pcproj)\n",
    "ax1.gridlines(draw_labels=True)\n",
    "cs = ax1.contour(dsera_cut.lons,dsera_cut.lats,dsera_cut.slp/100,colors='k',transform=pcproj)\n",
    "ax1.clabel(cs,cs.levels, inline=True,fontsize=10,fmt='%.1f')\n",
    "hdl = plt.scatter(df07_cut['lons'][::100], df07_cut['lats'][::100],c=df07_cut[var][::100], \n",
    "            cmap=plt.cm.get_cmap('RdYlGn').reversed(), \n",
    "            vmin=vmin,vmax=vmax,\n",
    "            transform=pcproj)\n",
    "plt.colorbar(label=var, shrink=1, ticks=ticks,extend='both');\n",
    "\n",
    "ax2 = fig.add_subplot(212,projection=bea_proj)\n",
    "ax2.coastlines(resolution='50m', color='black', linewidth=1)\n",
    "ax2.set_extent([bbox[0],bbox[2],bbox[1],bbox[3]], ccrs.PlateCarree())\n",
    "ax2.gridlines(draw_labels=True)\n",
    "plt.scatter(ds09_cut['lons'][::20], ds09_cut['lats'][::20],c=ctop[::20], \n",
    "            cmap=plt.cm.get_cmap('gist_ncar_r').reversed(), \n",
    "            vmin=100,vmax=1000,\n",
    "            transform=pcproj)\n",
    "plt.colorbar(label='cloud top height \\n [m]', shrink=1, ticks=np.arange(100,1000,50),extend='both');"
   ]
  },
  {
   "cell_type": "markdown",
   "metadata": {},
   "source": [
    "## Plot ATL07 and ATL09 data along the same latitude coordinate\n",
    "* It seem the laser is totally attenuated near the right end of the plots so very little surface and column optical depth retrieval\n",
    "* so it is likely cloud on the left and on the right are of different origin?"
   ]
  },
  {
   "cell_type": "code",
   "execution_count": null,
   "metadata": {},
   "outputs": [],
   "source": [
    "fig,ax=plt.subplots(6,1,figsize=(15,24),sharex=True,constrained_layout=True)\n",
    "\n",
    "i = 0\n",
    "ax[i].scatter(df07_cut.lats,df07_cut.photon_rate,s=2,c='gray', label='ATL07 all surface type')\n",
    "ax[i].scatter(df07_cut[df07_cut.stype>1].lats,df07_cut[df07_cut.stype>1].photon_rate,s=10,c='b', label= 'ATL07 surface type lead')\n",
    "ax[i].legend(fontsize=15)\n",
    "ax[i].set_ylim(0,20)\n",
    "ax[i].set_ylabel('ATL07 \\nphoton rate',fontsize=15)\n",
    "\n",
    "i+=1\n",
    "ax[i].scatter(df07_cut.lats,df07_cut.gauss,s=2,c='gray', label='ATL07 all surface type')\n",
    "ax[i].scatter(df07_cut[df07_cut.stype>1].lats,df07_cut[df07_cut.stype>1].gauss,s=10,c='blue',label= 'ATL07 surface type lead')\n",
    "ax[i].legend(loc=1,fontsize=15)\n",
    "ax[i].set_ylabel('ATL07 \\ngaussian width',fontsize=15)\n",
    "ax[i].set_ylim(0,.6)\n",
    "\n",
    "i+=1\n",
    "ax[i].grid()\n",
    "ax[i].scatter(df07_cut.lats,df07_cut.stype,s=2,c='gray',label='ATL07 all surface type')\n",
    "ax[i].scatter(df07_cut[df07_cut.stype>1].lats,df07_cut[df07_cut.stype>1].stype,s=10,c='blue',label= 'ATL07 surface type lead')\n",
    "ax[i].legend(fontsize=15)\n",
    "ax[i].set_ylim(-1,10)\n",
    "ax[i].set_ylabel('ATL07 \\nsurface type',fontsize=15)\n",
    "ax[i].set_yticks(np.arange(0,10,1))\n",
    "\n",
    "i+=1\n",
    "ax[i].scatter(df07_cut.lats,df07_cut.ssh_flag,c='k',s=2,marker='.',label='ATL07 all surface type')\n",
    "ax[i].scatter(df07_cut[df07_cut.stype>1].lats,df07_cut[df07_cut.stype>1].ssh_flag,c='b',s=10,label='ATL07 surface type lead')\n",
    "ax[i].legend(fontsize=15)\n",
    "ax[i].grid()\n",
    "ax[i].set_ylim(-1,2)\n",
    "ax[i].set_yticks(np.arange(0,2,1))\n",
    "ax[i].set_yticklabels(['sea ice', 'sea surface'],fontsize=12)\n",
    "ax[i].set_ylabel('ATL07 ssh flag',fontsize=15)\n",
    "\n",
    "i+=1\n",
    "hdl = ax[i].pcolormesh(ds09_cut['lats'],ds09_cut['zbin'],ds09_cut['cab_prof'].T,\n",
    "                      vmin=0,vmax=1e-3,\n",
    "                      cmap=plt.cm.gist_ncar)\n",
    "ax[i].set_ylim([0,1000])\n",
    "cb = fig.colorbar(hdl, ax=ax[i],extend='both',aspect=10)\n",
    "ax[i].plot(ds09_cut['lats'],ctop,'r')\n",
    "ax[i].plot(ds09_cut['lats'],cbot,'r')\n",
    "ax[i].set_ylabel('ATL09 backscatting coefficient',fontsize=16)\n",
    "\n",
    "i+=1\n",
    "ax[i].scatter(ds09_cut.lats,ds09_cut.column_od_asr,c='k',s=10,marker='.')\n",
    "ax[i].set_ylabel('ATL09 column optical depth',fontsize=16)\n",
    "ax[i].set_ylim([0,5])\n",
    "ax[i].grid()\n",
    "\n",
    "\n",
    "ax[i].set_xlabel('latitude',fontsize=15)"
   ]
  },
  {
   "cell_type": "code",
   "execution_count": null,
   "metadata": {},
   "outputs": [],
   "source": []
  },
  {
   "cell_type": "code",
   "execution_count": null,
   "metadata": {},
   "outputs": [],
   "source": []
  },
  {
   "cell_type": "code",
   "execution_count": null,
   "metadata": {},
   "outputs": [],
   "source": [
    "## Failed attempt to use widget \n",
    "# bea_proj = ccrs.NorthPolarStereo(central_longitude=-140)\n",
    "# pcproj   = ccrs.PlateCarree()\n",
    "\n",
    "# var = 'heights'\n",
    "# vmin = 0; vmax= 2\n",
    "# ticks=np.arange(vmin,vmax,.2)\n",
    "# fig = plt.figure(1,figsize=(8,8),dpi=100)\n",
    "# ax1 = fig.add_subplot(211,projection=bea_proj)\n",
    "# ax1.coastlines(resolution='50m', color='black', linewidth=1)\n",
    "# ax1.set_extent([bbox[0],bbox[2],bbox[1],bbox[3]], pcproj)\n",
    "# ax1.gridlines(draw_labels=True)\n",
    "# plt.scatter(df07_cut['lons'][::100], df07_cut['lats'][::100],c=df07_cut[var][::100], \n",
    "#             cmap=plt.cm.get_cmap('RdYlGn').reversed(), \n",
    "#             vmin=vmin,vmax=vmax,\n",
    "#             transform=pcproj)\n",
    "# plt.colorbar(label=var, shrink=0.5, ticks=ticks,extend='both');\n",
    "\n",
    "# laytop = ds09_cut['layer_top'].values\n",
    "# laytop[laytop>20e3] = -100\n",
    "# ctop = laytop.max(axis=1)\n",
    "# ax2 = fig.add_subplot(212,sharex=ax1,sharey=ax1,projection=bea_proj)\n",
    "# ax2.coastlines(resolution='50m', color='black', linewidth=1)\n",
    "# ax2.set_extent([bbox[0],bbox[2],bbox[1],bbox[3]], ccrs.PlateCarree())\n",
    "# ax2.gridlines(draw_labels=True)\n",
    "# plt.scatter(ds09_cut['lons'][::20], ds09_cut['lats'][::20],c=ctop[::20], \n",
    "#             cmap=plt.cm.get_cmap('gist_ncar_r').reversed(), \n",
    "#             vmin=100,vmax=1000,\n",
    "#             transform=pcproj)\n",
    "# plt.colorbar(label='cloud top height', shrink=0.5, ticks=np.arange(100,1000,50),extend='both');"
   ]
  },
  {
   "cell_type": "code",
   "execution_count": null,
   "metadata": {},
   "outputs": [],
   "source": []
  },
  {
   "cell_type": "code",
   "execution_count": null,
   "metadata": {},
   "outputs": [],
   "source": []
  },
  {
   "cell_type": "code",
   "execution_count": null,
   "metadata": {},
   "outputs": [],
   "source": []
  },
  {
   "cell_type": "code",
   "execution_count": null,
   "metadata": {},
   "outputs": [],
   "source": []
  },
  {
   "cell_type": "code",
   "execution_count": null,
   "metadata": {},
   "outputs": [],
   "source": []
  },
  {
   "cell_type": "code",
   "execution_count": null,
   "metadata": {},
   "outputs": [],
   "source": []
  },
  {
   "cell_type": "code",
   "execution_count": null,
   "metadata": {},
   "outputs": [],
   "source": []
  },
  {
   "cell_type": "code",
   "execution_count": null,
   "metadata": {},
   "outputs": [],
   "source": []
  },
  {
   "cell_type": "code",
   "execution_count": null,
   "metadata": {},
   "outputs": [],
   "source": []
  }
 ],
 "metadata": {
  "kernelspec": {
   "display_name": "Python [conda env:notebook] *",
   "language": "python",
   "name": "conda-env-notebook-py"
  },
  "language_info": {
   "codemirror_mode": {
    "name": "ipython",
    "version": 3
   },
   "file_extension": ".py",
   "mimetype": "text/x-python",
   "name": "python",
   "nbconvert_exporter": "python",
   "pygments_lexer": "ipython3",
   "version": "3.7.6"
  }
 },
 "nbformat": 4,
 "nbformat_minor": 4
}
