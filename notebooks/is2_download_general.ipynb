{
 "cells": [
  {
   "cell_type": "markdown",
   "metadata": {},
   "source": [
    "## ICESat-2 Data Download "
   ]
  },
  {
   "cell_type": "markdown",
   "metadata": {},
   "source": [
    "This notebook orders and downloads ICESat-2 ATL03 data in the Beaufort, Chukchi, and Laptev Sea regions for the ICESat-2 hackweek project *Overcast*.\n",
    "\n",
    "It also has capability to gather data from any ICESat-2 data product in any region and timeframe of interest, based on user-defined input.\n",
    "\n",
    "The notebook makes use of *icepyx* functionality, and writes data to respective folders in shared-data on the hackweek's JupyterHub (at least for now); it borrows heavily from the tutorial material for the same hackweek, compiled by Jessica "
   ]
  },
  {
   "cell_type": "code",
   "execution_count": null,
   "metadata": {},
   "outputs": [],
   "source": [
    "import os\n",
    "from icepyx import icesat2data as ipd\n",
    "%matplotlib inline"
   ]
  },
  {
   "cell_type": "markdown",
   "metadata": {},
   "source": [
    "#### Set up order"
   ]
  },
  {
   "cell_type": "code",
   "execution_count": null,
   "metadata": {},
   "outputs": [],
   "source": [
    "project_name = input(\"Project name: \")\n",
    "roi = input(\"name of region of interest: \")\n",
    "dataset= input(\"ICESat-2 product short name: \")"
   ]
  },
  {
   "cell_type": "code",
   "execution_count": null,
   "metadata": {},
   "outputs": [],
   "source": [
    "short_name = dataset\n",
    "\n",
    "if 'overcast' == project_name:\n",
    "    if 'beaufort' == roi:\n",
    "        spatial_extent = [-140,68,-120,80]\n",
    "    elif 'chukchi' == roi:\n",
    "        spatial_extent = [170,70,190,75]\n",
    "    elif 'laptev' == roi:\n",
    "        spatial_extent = [110,73,140,80]\n",
    "    else:\n",
    "        spatial_extent = [float(input(\"west: \")), float(input(\"low lat: \")) , float(input(\"east: \")), float(input(\"high lat: \"))]\n",
    "    \n",
    "    date_range = ['2019-06-10','2019-06-16']\n",
    "else:\n",
    "    spatial_extent = [float(input(\"west: \")), float(input(\"low lat: \")) , float(input(\"east: \")), float(input(\"high lat: \"))]\n",
    "    date_range = [input(\"start date: \"), input(\"end date: \")]"
   ]
  },
  {
   "cell_type": "code",
   "execution_count": null,
   "metadata": {},
   "outputs": [],
   "source": [
    "region = ipd.Icesat2Data(short_name, spatial_extent, date_range) \n",
    "region.avail_granules()"
   ]
  },
  {
   "cell_type": "code",
   "execution_count": null,
   "metadata": {},
   "outputs": [],
   "source": [
    "earthdata_uid = 'molly.m.wieringa_2019'\n",
    "email = 'molly.m.wieringa@gmail.com'\n",
    "\n",
    "region.earthdata_login(earthdata_uid, email)"
   ]
  },
  {
   "cell_type": "code",
   "execution_count": null,
   "metadata": {},
   "outputs": [],
   "source": [
    "region.order_granules(subset=False, format = 'HDF5', email=False)\n",
    "print(\"orders: \", region.granules.orderIDs)"
   ]
  },
  {
   "cell_type": "code",
   "execution_count": null,
   "metadata": {},
   "outputs": [],
   "source": [
    "if 'overcast' == project_name:\n",
    "    path = '../jovyan/shared/data-overcast/'+ roi.upper() + '/' + short_name\n",
    "else:\n",
    "    path = './download/' + roi.upper() + '/' + short_name\n",
    "\n",
    "region.download_granules(path)"
   ]
  },
  {
   "cell_type": "code",
   "execution_count": null,
   "metadata": {},
   "outputs": [],
   "source": []
  }
 ],
 "metadata": {
  "kernelspec": {
   "display_name": "Python 3",
   "language": "python",
   "name": "python3"
  },
  "language_info": {
   "codemirror_mode": {
    "name": "ipython",
    "version": 3
   },
   "file_extension": ".py",
   "mimetype": "text/x-python",
   "name": "python",
   "nbconvert_exporter": "python",
   "pygments_lexer": "ipython3",
   "version": "3.7.6"
  }
 },
 "nbformat": 4,
 "nbformat_minor": 4
}
