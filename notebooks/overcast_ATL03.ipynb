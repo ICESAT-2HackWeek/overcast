{
 "cells": [
  {
   "cell_type": "markdown",
   "metadata": {},
   "source": [
    "## OVERCAST ATL-03"
   ]
  },
  {
   "cell_type": "markdown",
   "metadata": {},
   "source": [
    "This notebook orders and downloads ICESat-2 ATL03 data in the Beaufort, Chukchi, and Laptev Sea regions for the ICESat-2 hackweek project *Overcast* \n",
    "\n",
    "The notebook makes use of *icepyx* functionality, and writes data to respective folders in shared-data on the hackweek's JupyterHub (at least for now); it borrows heavily from the tutorial material for the same hackweek, compiled by Jessica "
   ]
  },
  {
   "cell_type": "code",
   "execution_count": 2,
   "metadata": {},
   "outputs": [],
   "source": [
    "import os\n",
    "from icepyx import icesat2data as ipd\n",
    "%matplotlib inline"
   ]
  },
  {
   "cell_type": "markdown",
   "metadata": {},
   "source": [
    "#### Set up order"
   ]
  },
  {
   "cell_type": "code",
   "execution_count": 3,
   "metadata": {},
   "outputs": [
    {
     "name": "stdin",
     "output_type": "stream",
     "text": [
      "Project name:  overcast\n"
     ]
    }
   ],
   "source": [
    "project_name = input(\"Project name: \")"
   ]
  },
  {
   "cell_type": "markdown",
   "metadata": {},
   "source": [
    "For reference for ***overcast***: \\\n",
    "    - BEAUFORT bbox is [-140,68,-120,80]\\\n",
    "    - CHUKCHI  bbox is [-190,70,-170,75]\\\n",
    "    - LAPTEV   bbox is [110,73,140,80]\\\n",
    "    \n",
    "Start date: 2019-06-09\\\n",
    "End date  : 2019-06-18"
   ]
  },
  {
   "cell_type": "code",
   "execution_count": 4,
   "metadata": {},
   "outputs": [],
   "source": [
    "short_name = 'ATL03'\n",
    "\n",
    "if 'overcast' == project_name:\n",
    "    spatial_extent_BFT = [-140,68,-120,80]\n",
    "    spatial_extent_CHU = [170,70,190,75]\n",
    "    spatial_extent_LAP = [110,73,140,80]\n",
    "    \n",
    "    date_range = ['2019-06-10','2019-06-16']\n",
    "else:\n",
    "    spatial_extent = [float(input(\"west: \")), float(input(\"low lat: \")) , float(input(\"east: \")), float(input(\"high lat: \"))]\n",
    "    date_range = [input(\"start date: \"), input(\"end date: \")]"
   ]
  },
  {
   "cell_type": "code",
   "execution_count": 5,
   "metadata": {},
   "outputs": [],
   "source": [
    "if 'overcast' == project_name: \n",
    "    BFT = ipd.Icesat2Data(short_name, spatial_extent_BFT, date_range)\n",
    "    CHU = ipd.Icesat2Data(short_name, spatial_extent_CHU, date_range)\n",
    "    LAP = ipd.Icesat2Data(short_name, spatial_extent_LAP, date_range)\n",
    "else:\n",
    "    region = ipd.Icesat2Data(short_name, spatial_extent, date_range) "
   ]
  },
  {
   "cell_type": "code",
   "execution_count": 6,
   "metadata": {},
   "outputs": [
    {
     "name": "stdout",
     "output_type": "stream",
     "text": [
      "{'Number of available granules': 36, 'Average size of granules (MB)': 1754.6772770881612, 'Total size of all granules (MB)': 63168.38197517381}\n",
      "{'Number of available granules': 44, 'Average size of granules (MB)': 2025.894620288498, 'Total size of all granules (MB)': 89139.3632926939}\n"
     ]
    }
   ],
   "source": [
    "if 'overcast' == project_name:\n",
    "    B = BFT.avail_granules()\n",
    "#     C = CHU.avail_granules()\n",
    "    L = LAP.avail_granules()\n",
    "    print(B)\n",
    "#     print(C)\n",
    "    print(L)\n",
    "else:\n",
    "    region.avail_granules()"
   ]
  },
  {
   "cell_type": "code",
   "execution_count": 7,
   "metadata": {},
   "outputs": [
    {
     "name": "stdin",
     "output_type": "stream",
     "text": [
      "Earthdata Login password:  ··········\n",
      "Earthdata Login password:  ··········\n"
     ]
    }
   ],
   "source": [
    "earthdata_uid = 'molly.m.wieringa_2019'\n",
    "email = 'molly.m.wieringa@gmail.com'\n",
    "\n",
    "if 'overcast' == project_name:\n",
    "    BFT.earthdata_login(earthdata_uid, email)\n",
    "    LAP.earthdata_login(earthdata_uid, email)\n",
    "#     CHU.earthdata_login(earthdata_uid, email)\n",
    "else:\n",
    "    region.earthdata_login(earthdata_uid, email)"
   ]
  },
  {
   "cell_type": "code",
   "execution_count": 13,
   "metadata": {},
   "outputs": [
    {
     "name": "stdout",
     "output_type": "stream",
     "text": [
      "Total number of data order requests is  4  for  36  granules.\n",
      "Data request  1  of  4  is submitting to NSIDC\n",
      "order ID:  5000000701459\n",
      "Initial status of your order request at NSIDC is:  processing\n",
      "Your order status is still  processing  at NSIDC. Please continue waiting... this may take a few moments.\n",
      "Your order is: complete\n",
      "Data request  2  of  4  is submitting to NSIDC\n",
      "order ID:  5000000701460\n",
      "Initial status of your order request at NSIDC is:  processing\n",
      "Your order status is still  processing  at NSIDC. Please continue waiting... this may take a few moments.\n",
      "Your order is: complete\n",
      "Data request  3  of  4  is submitting to NSIDC\n",
      "order ID:  5000000701461\n",
      "Initial status of your order request at NSIDC is:  processing\n",
      "Your order status is still  processing  at NSIDC. Please continue waiting... this may take a few moments.\n",
      "Your order is: complete\n",
      "Data request  4  of  4  is submitting to NSIDC\n",
      "order ID:  5000000701462\n",
      "Initial status of your order request at NSIDC is:  processing\n",
      "Your order status is still  processing  at NSIDC. Please continue waiting... this may take a few moments.\n",
      "Your order is: complete\n",
      "Total number of data order requests is  5  for  44  granules.\n",
      "Data request  1  of  5  is submitting to NSIDC\n",
      "order ID:  5000000701463\n",
      "Initial status of your order request at NSIDC is:  processing\n",
      "Your order status is still  processing  at NSIDC. Please continue waiting... this may take a few moments.\n",
      "Your order is: complete\n",
      "Data request  2  of  5  is submitting to NSIDC\n",
      "order ID:  5000000701464\n",
      "Initial status of your order request at NSIDC is:  processing\n",
      "Your order status is still  processing  at NSIDC. Please continue waiting... this may take a few moments.\n",
      "Your order is: complete\n",
      "Data request  3  of  5  is submitting to NSIDC\n",
      "order ID:  5000000701465\n",
      "Initial status of your order request at NSIDC is:  processing\n",
      "Your order status is still  processing  at NSIDC. Please continue waiting... this may take a few moments.\n",
      "Your order is: complete\n",
      "Data request  4  of  5  is submitting to NSIDC\n",
      "order ID:  5000000701466\n",
      "Initial status of your order request at NSIDC is:  processing\n",
      "Your order status is still  processing  at NSIDC. Please continue waiting... this may take a few moments.\n",
      "Your order is: complete\n",
      "Data request  5  of  5  is submitting to NSIDC\n",
      "order ID:  5000000701467\n",
      "Initial status of your order request at NSIDC is:  processing\n",
      "Your order status is still  processing  at NSIDC. Please continue waiting... this may take a few moments.\n",
      "Your order is: complete\n"
     ]
    }
   ],
   "source": [
    "if 'overcast' == project_name:\n",
    "    BFT.order_granules(subset=False, format='HDF5', email=False)\n",
    "    LAP.order_granules(subset=False, format='HDF5', email=False)\n",
    "else:\n",
    "    region.order_granules(subset=False, format = 'HDF5', email=False)"
   ]
  },
  {
   "cell_type": "code",
   "execution_count": 16,
   "metadata": {},
   "outputs": [
    {
     "name": "stdout",
     "output_type": "stream",
     "text": [
      "Beaufort orders:  ['5000000701459', '5000000701460', '5000000701461', '5000000701462']\n",
      "Laptev orders:  ['5000000701463', '5000000701464', '5000000701465', '5000000701466', '5000000701467']\n"
     ]
    }
   ],
   "source": [
    "if 'overcast' == project_name:\n",
    "    print(\"Beaufort orders: \", BFT.granules.orderIDs)\n",
    "    print(\"Laptev orders: \", LAP.granules.orderIDs)\n",
    "else:\n",
    "    print(\"orders: \", region.granules.orderIDs)\n"
   ]
  },
  {
   "cell_type": "code",
   "execution_count": null,
   "metadata": {},
   "outputs": [
    {
     "name": "stdout",
     "output_type": "stream",
     "text": [
      "Beginning download of zipped output...\n",
      "Data request 5000000701463 of  5  order(s) is downloaded.\n",
      "Beginning download of zipped output...\n"
     ]
    }
   ],
   "source": [
    "if 'overcast' == project_name:\n",
    "    BFT_path = '../jovyan/shared/data-overcast/BEAUFORT/ATL03'\n",
    "    LAP_path = '../jovyan/shared/data-overcast/LAPTEV/ATL03'\n",
    "    \n",
    "    BFT.download_granules(BFT_path)\n",
    "    LAP.download_granules(LAP_path)\n",
    "else:\n",
    "    path = './download'\n",
    "    region.download_granules(path)"
   ]
  },
  {
   "cell_type": "code",
   "execution_count": null,
   "metadata": {},
   "outputs": [],
   "source": []
  }
 ],
 "metadata": {
  "kernelspec": {
   "display_name": "Python 3",
   "language": "python",
   "name": "python3"
  },
  "language_info": {
   "codemirror_mode": {
    "name": "ipython",
    "version": 3
   },
   "file_extension": ".py",
   "mimetype": "text/x-python",
   "name": "python",
   "nbconvert_exporter": "python",
   "pygments_lexer": "ipython3",
   "version": "3.7.6"
  }
 },
 "nbformat": 4,
 "nbformat_minor": 4
}
